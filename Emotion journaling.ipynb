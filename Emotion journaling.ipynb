{
 "cells": [
  {
   "cell_type": "code",
   "execution_count": 26,
   "metadata": {
    "collapsed": false,
    "deletable": true,
    "editable": true
   },
   "outputs": [
    {
     "name": "stdout",
     "output_type": "stream",
     "text": [
      "Populating the interactive namespace from numpy and matplotlib\n"
     ]
    }
   ],
   "source": [
    "import pandas as pd\n",
    "import numpy as np\n",
    "import seaborn as sns\n",
    "sns.set_style('darkgrid')\n",
    "\n",
    "%pylab inline"
   ]
  },
  {
   "cell_type": "code",
   "execution_count": 88,
   "metadata": {
    "collapsed": false,
    "deletable": true,
    "editable": true
   },
   "outputs": [
    {
     "name": "stdout",
     "output_type": "stream",
     "text": [
      "(804, 6)\n"
     ]
    }
   ],
   "source": [
    "data = pd.read_csv('journal_mental_health.csv')\n",
    "del data['Unnamed: 0'] # import bug\n",
    "\n",
    "print(data.shape)"
   ]
  },
  {
   "cell_type": "code",
   "execution_count": 32,
   "metadata": {
    "collapsed": false
   },
   "outputs": [
    {
     "data": {
      "text/plain": [
       "Index(['Timestamp', 'name', 'g_number', 'entry_number', 'journal', 'mood'], dtype='object')"
      ]
     },
     "execution_count": 32,
     "metadata": {},
     "output_type": "execute_result"
    }
   ],
   "source": [
    "data.columns"
   ]
  },
  {
   "cell_type": "code",
   "execution_count": 30,
   "metadata": {
    "collapsed": false
   },
   "outputs": [
    {
     "data": {
      "text/plain": [
       "<matplotlib.axes._subplots.AxesSubplot at 0x1c26aed57b8>"
      ]
     },
     "execution_count": 30,
     "metadata": {},
     "output_type": "execute_result"
    },
    {
     "data": {
      "image/png": "[encoded data removed]",
      "text/plain": [
       "<matplotlib.figure.Figure at 0x1c26aee8668>"
      ]
     },
     "metadata": {},
     "output_type": "display_data"
    }
   ],
   "source": [
    "# 7-point scale\n",
    "data.mood.hist(bins=7, edgecolor='black')"
   ]
  },
  {
   "cell_type": "code",
   "execution_count": 14,
   "metadata": {
    "collapsed": false,
    "deletable": true,
    "editable": true
   },
   "outputs": [
    {
     "name": "stdout",
     "output_type": "stream",
     "text": [
      "Before: 4.74\n",
      "After:  5.04\n"
     ]
    }
   ],
   "source": [
    "# Did people's moods improve?\n",
    "# (Perhaps a little!)\n",
    "\n",
    "print('Before:', data.mood.head(100).mean())\n",
    "print('After: ', data.mood.tail(100).mean())"
   ]
  },
  {
   "cell_type": "code",
   "execution_count": 34,
   "metadata": {
    "collapsed": false
   },
   "outputs": [
    {
     "data": {
      "text/plain": [
       "<matplotlib.axes._subplots.AxesSubplot at 0x1c26af0f128>"
      ]
     },
     "execution_count": 34,
     "metadata": {},
     "output_type": "execute_result"
    },
    {
     "data": {
      "image/png": "[encoded data removed]",
      "text/plain": [
       "<matplotlib.figure.Figure at 0x1c25d2c6e10>"
      ]
     },
     "metadata": {},
     "output_type": "display_data"
    }
   ],
   "source": [
    "# It does appear to be trending upward!\n",
    "data.groupby('entry_number').mood.mean().plot()"
   ]
  },
  {
   "cell_type": "code",
   "execution_count": 45,
   "metadata": {
    "collapsed": false,
    "scrolled": true
   },
   "outputs": [
    {
     "data": {
      "text/plain": [
       "Index(['g00456349', 'g00605120', 'g00660389', 'g00871614', 'g00911674',\n",
       "       'g00920707', 'g00921723', 'g00948853', 'g00970113', 'g00983492',\n",
       "       'g00984263', 'g00986945', 'g01003744', 'g01006708', 'g01008246',\n",
       "       'g01016610', 'g01017998', 'g01022498', 'g01032421', 'g01034027',\n",
       "       'g01037770', 'g01041055', 'g01047247', 'g01048718', 'g01052247',\n",
       "       'g01058915', 'g01061452', 'g01068001', 'g01070252', 'g01084119'],\n",
       "      dtype='object', name='g_number')"
      ]
     },
     "execution_count": 45,
     "metadata": {},
     "output_type": "execute_result"
    }
   ],
   "source": []
  },
  {
   "cell_type": "code",
   "execution_count": 51,
   "metadata": {
    "collapsed": false
   },
   "outputs": [
    {
     "name": "stdout",
     "output_type": "stream",
     "text": [
      "Highest average mood: 6.095238095238095\n",
      "Lowest average mood:  3.6363636363636362\n"
     ]
    }
   ],
   "source": [
    "# Making sure we analyze people who did the full assignment\n",
    "multiple_entries = data.groupby('g_number').count()\n",
    "multiple_entries = multiple_entries[multiple_entries.name > 15]\n",
    "\n",
    "print('Highest average mood:', data[data.g_number.isin(multiple_entries.index)]\\\n",
    "      .groupby('g_number').mood.mean().max())\n",
    "print('Lowest average mood: ', data[data.g_number.isin(multiple_entries.index)]\\\n",
    "      .groupby('g_number').mood.mean().min())"
   ]
  },
  {
   "cell_type": "markdown",
   "metadata": {},
   "source": [
    "# Best predictors of mood\n",
    "What did people do on their good days? What about their bad days?"
   ]
  },
  {
   "cell_type": "code",
   "execution_count": 36,
   "metadata": {
    "collapsed": true,
    "deletable": true,
    "editable": true
   },
   "outputs": [],
   "source": [
    "# In a moment we'll find out which is easier to identify: good or bad moods\n",
    "# We'll ignore \"neutral\" days (4's)\n",
    "\n",
    "data['mood_good'] = np.where(data.mood > 4, 1, 0)\n",
    "data['mood_bad'] = np.where(data.mood < 4, 1, 0)"
   ]
  },
  {
   "cell_type": "code",
   "execution_count": 37,
   "metadata": {
    "collapsed": false,
    "deletable": true,
    "editable": true
   },
   "outputs": [],
   "source": [
    "from sklearn.pipeline import Pipeline\n",
    "from sklearn.feature_extraction.text import TfidfVectorizer\n",
    "from sklearn.naive_bayes import MultinomialNB\n",
    "from sklearn.ensemble import RandomForestClassifier\n",
    "from sklearn.model_selection import train_test_split, cross_val_score, StratifiedKFold\n",
    "from sklearn.pipeline import make_pipeline\n",
    "\n",
    "\n",
    "def text_pipeline(x_col=data['journal'], y_trait=data['mood_good'],\n",
    "                  min_df=.005, max_df=1.0, test_size=0.2, ngram=1,\n",
    "                  print_accuracy=True):\n",
    "    \n",
    "    tfidf = TfidfVectorizer(min_df=min_df, max_df=max_df, ngram_range=(1,ngram))\n",
    "    clf = MultinomialNB()\n",
    "    pipeline = make_pipeline(tfidf, clf)\n",
    "    kf = StratifiedKFold(n_splits=4)\n",
    "    \n",
    "    if print_accuracy == True:\n",
    "        print('Using \"' + x_col.name + '\" to predict \"' + y_trait.name + '\"...')\n",
    "        cvs = cross_val_score(pipeline, x_col, y_trait, cv=kf, scoring='roc_auc').mean()\n",
    "        print('Accuracy: {}'.format(round(cvs, 2)))\n",
    "    \n",
    "    pipeline.fit(x_col, y_trait)\n",
    "    return pipeline\n",
    "\n",
    "\n",
    "def top_words(col='journal', y='mood_good', sort=True, df=data, min_df=.01,\n",
    "              max_df=.3, ngram=1):\n",
    "    x_col = df[col]\n",
    "    y_trait = df[y]\n",
    "\n",
    "    pipeline = Pipeline([\n",
    "    ('tfidf', TfidfVectorizer(min_df=min_df, max_df=max_df, stop_words='english',\n",
    "                              ngram_range=(1,ngram))), \n",
    "    ('classifier', MultinomialNB()),\n",
    "        ])\n",
    "\n",
    "    pipeline.fit(x_col, y_trait)\n",
    "    words = {}\n",
    "    \n",
    "    for word, _num in pipeline.named_steps['tfidf'].vocabulary_.items():\n",
    "        prob = pipeline.predict_proba([word])[0][1]\n",
    "        words[word] = prob\n",
    "\n",
    "    df_topwords = pd.DataFrame([words]).transpose()\n",
    "    df_topwords.columns = ['probability']\n",
    "    \n",
    "    df_topwords.sort_values('probability', ascending=False, inplace=True)\n",
    "    \n",
    "    df_topwords['adjusted'] = df_topwords['probability']/df_topwords['probability'].mean()\n",
    "    \n",
    "    return df_topwords\n",
    "\n",
    "def predict(word, col='journal', y='mood_good', df=data):\n",
    "    x_col = df[col]\n",
    "    y = df[y]\n",
    "    \n",
    "    tfidf = TfidfVectorizer(min_df=min_df, max_df=max_df)\n",
    "    clf = MultinomialNB()\n",
    "\n",
    "    pipeline = make_pipeline(tfidf, clf)\n",
    "\n",
    "    pipeline.fit(x_col, y)\n",
    "    return pipeline.predict_proba([word])[0][1]"
   ]
  },
  {
   "cell_type": "code",
   "execution_count": 38,
   "metadata": {
    "collapsed": false,
    "deletable": true,
    "editable": true
   },
   "outputs": [
    {
     "name": "stdout",
     "output_type": "stream",
     "text": [
      "Using \"journal\" to predict \"mood_good\"...\n",
      "Accuracy: 0.63\n",
      "Using \"journal\" to predict \"mood_bad\"...\n",
      "Accuracy: 0.55\n"
     ]
    }
   ],
   "source": [
    "# Which one works better?\n",
    "\n",
    "clf_good = text_pipeline()\n",
    "clf_bad = text_pipeline(y_trait=data['mood_bad'])"
   ]
  },
  {
   "cell_type": "markdown",
   "metadata": {},
   "source": [
    "We can predict good moods a bit better, so let's use that from now on."
   ]
  },
  {
   "cell_type": "code",
   "execution_count": 39,
   "metadata": {
    "collapsed": false,
    "deletable": true,
    "editable": true
   },
   "outputs": [
    {
     "data": {
      "text/html": [
       "<div>\n",
       "<style scoped>\n",
       "    .dataframe tbody tr th:only-of-type {\n",
       "        vertical-align: middle;\n",
       "    }\n",
       "\n",
       "    .dataframe tbody tr th {\n",
       "        vertical-align: top;\n",
       "    }\n",
       "\n",
       "    .dataframe thead th {\n",
       "        text-align: right;\n",
       "    }\n",
       "</style>\n",
       "<table border=\"1\" class=\"dataframe\">\n",
       "  <thead>\n",
       "    <tr style=\"text-align: right;\">\n",
       "      <th></th>\n",
       "      <th>probability</th>\n",
       "      <th>adjusted</th>\n",
       "    </tr>\n",
       "  </thead>\n",
       "  <tbody>\n",
       "    <tr>\n",
       "      <th>today good</th>\n",
       "      <td>0.866112</td>\n",
       "      <td>1.344386</td>\n",
       "    </tr>\n",
       "    <tr>\n",
       "      <th>best friend</th>\n",
       "      <td>0.847515</td>\n",
       "      <td>1.315519</td>\n",
       "    </tr>\n",
       "    <tr>\n",
       "      <th>love</th>\n",
       "      <td>0.843063</td>\n",
       "      <td>1.308609</td>\n",
       "    </tr>\n",
       "    <tr>\n",
       "      <th>catch</th>\n",
       "      <td>0.842336</td>\n",
       "      <td>1.307481</td>\n",
       "    </tr>\n",
       "    <tr>\n",
       "      <th>got lot</th>\n",
       "      <td>0.841567</td>\n",
       "      <td>1.306287</td>\n",
       "    </tr>\n",
       "    <tr>\n",
       "      <th>came home</th>\n",
       "      <td>0.836715</td>\n",
       "      <td>1.298757</td>\n",
       "    </tr>\n",
       "    <tr>\n",
       "      <th>relax</th>\n",
       "      <td>0.828557</td>\n",
       "      <td>1.286093</td>\n",
       "    </tr>\n",
       "    <tr>\n",
       "      <th>workout</th>\n",
       "      <td>0.827060</td>\n",
       "      <td>1.283770</td>\n",
       "    </tr>\n",
       "    <tr>\n",
       "      <th>main</th>\n",
       "      <td>0.819930</td>\n",
       "      <td>1.272702</td>\n",
       "    </tr>\n",
       "    <tr>\n",
       "      <th>amazing</th>\n",
       "      <td>0.817724</td>\n",
       "      <td>1.269278</td>\n",
       "    </tr>\n",
       "    <tr>\n",
       "      <th>good day</th>\n",
       "      <td>0.812381</td>\n",
       "      <td>1.260985</td>\n",
       "    </tr>\n",
       "    <tr>\n",
       "      <th>came</th>\n",
       "      <td>0.811219</td>\n",
       "      <td>1.259180</td>\n",
       "    </tr>\n",
       "    <tr>\n",
       "      <th>day went</th>\n",
       "      <td>0.809712</td>\n",
       "      <td>1.256841</td>\n",
       "    </tr>\n",
       "    <tr>\n",
       "      <th>thank</th>\n",
       "      <td>0.809233</td>\n",
       "      <td>1.256098</td>\n",
       "    </tr>\n",
       "    <tr>\n",
       "      <th>great day</th>\n",
       "      <td>0.805197</td>\n",
       "      <td>1.249833</td>\n",
       "    </tr>\n",
       "    <tr>\n",
       "      <th>haven seen</th>\n",
       "      <td>0.801608</td>\n",
       "      <td>1.244262</td>\n",
       "    </tr>\n",
       "    <tr>\n",
       "      <th>today proud</th>\n",
       "      <td>0.801342</td>\n",
       "      <td>1.243850</td>\n",
       "    </tr>\n",
       "    <tr>\n",
       "      <th>movies</th>\n",
       "      <td>0.799834</td>\n",
       "      <td>1.241510</td>\n",
       "    </tr>\n",
       "    <tr>\n",
       "      <th>small</th>\n",
       "      <td>0.799655</td>\n",
       "      <td>1.241231</td>\n",
       "    </tr>\n",
       "    <tr>\n",
       "      <th>mother day</th>\n",
       "      <td>0.798829</td>\n",
       "      <td>1.239949</td>\n",
       "    </tr>\n",
       "    <tr>\n",
       "      <th>dear god</th>\n",
       "      <td>0.798152</td>\n",
       "      <td>1.238897</td>\n",
       "    </tr>\n",
       "    <tr>\n",
       "      <th>seen</th>\n",
       "      <td>0.795950</td>\n",
       "      <td>1.235481</td>\n",
       "    </tr>\n",
       "    <tr>\n",
       "      <th>current problem</th>\n",
       "      <td>0.795225</td>\n",
       "      <td>1.234355</td>\n",
       "    </tr>\n",
       "    <tr>\n",
       "      <th>till</th>\n",
       "      <td>0.787493</td>\n",
       "      <td>1.222352</td>\n",
       "    </tr>\n",
       "    <tr>\n",
       "      <th>watch</th>\n",
       "      <td>0.786016</td>\n",
       "      <td>1.220060</td>\n",
       "    </tr>\n",
       "    <tr>\n",
       "      <th>god</th>\n",
       "      <td>0.785534</td>\n",
       "      <td>1.219313</td>\n",
       "    </tr>\n",
       "    <tr>\n",
       "      <th>thinking</th>\n",
       "      <td>0.785329</td>\n",
       "      <td>1.218995</td>\n",
       "    </tr>\n",
       "    <tr>\n",
       "      <th>pretty good</th>\n",
       "      <td>0.784967</td>\n",
       "      <td>1.218433</td>\n",
       "    </tr>\n",
       "    <tr>\n",
       "      <th>felt good</th>\n",
       "      <td>0.784902</td>\n",
       "      <td>1.218331</td>\n",
       "    </tr>\n",
       "    <tr>\n",
       "      <th>mother</th>\n",
       "      <td>0.784396</td>\n",
       "      <td>1.217547</td>\n",
       "    </tr>\n",
       "    <tr>\n",
       "      <th>...</th>\n",
       "      <td>...</td>\n",
       "      <td>...</td>\n",
       "    </tr>\n",
       "    <tr>\n",
       "      <th>coworker</th>\n",
       "      <td>0.486836</td>\n",
       "      <td>0.755670</td>\n",
       "    </tr>\n",
       "    <tr>\n",
       "      <th>exhausted</th>\n",
       "      <td>0.486691</td>\n",
       "      <td>0.755447</td>\n",
       "    </tr>\n",
       "    <tr>\n",
       "      <th>clean</th>\n",
       "      <td>0.484851</td>\n",
       "      <td>0.752590</td>\n",
       "    </tr>\n",
       "    <tr>\n",
       "      <th>feel bad</th>\n",
       "      <td>0.484056</td>\n",
       "      <td>0.751356</td>\n",
       "    </tr>\n",
       "    <tr>\n",
       "      <th>rough</th>\n",
       "      <td>0.481361</td>\n",
       "      <td>0.747173</td>\n",
       "    </tr>\n",
       "    <tr>\n",
       "      <th>today wasn</th>\n",
       "      <td>0.479180</td>\n",
       "      <td>0.743787</td>\n",
       "    </tr>\n",
       "    <tr>\n",
       "      <th>use</th>\n",
       "      <td>0.477133</td>\n",
       "      <td>0.740610</td>\n",
       "    </tr>\n",
       "    <tr>\n",
       "      <th>rude</th>\n",
       "      <td>0.476747</td>\n",
       "      <td>0.740011</td>\n",
       "    </tr>\n",
       "    <tr>\n",
       "      <th>realized</th>\n",
       "      <td>0.475176</td>\n",
       "      <td>0.737571</td>\n",
       "    </tr>\n",
       "    <tr>\n",
       "      <th>didn know</th>\n",
       "      <td>0.474166</td>\n",
       "      <td>0.736004</td>\n",
       "    </tr>\n",
       "    <tr>\n",
       "      <th>professor</th>\n",
       "      <td>0.473323</td>\n",
       "      <td>0.734696</td>\n",
       "    </tr>\n",
       "    <tr>\n",
       "      <th>mean</th>\n",
       "      <td>0.473052</td>\n",
       "      <td>0.734275</td>\n",
       "    </tr>\n",
       "    <tr>\n",
       "      <th>physically</th>\n",
       "      <td>0.470153</td>\n",
       "      <td>0.729775</td>\n",
       "    </tr>\n",
       "    <tr>\n",
       "      <th>keeping</th>\n",
       "      <td>0.470139</td>\n",
       "      <td>0.729753</td>\n",
       "    </tr>\n",
       "    <tr>\n",
       "      <th>body</th>\n",
       "      <td>0.468880</td>\n",
       "      <td>0.727800</td>\n",
       "    </tr>\n",
       "    <tr>\n",
       "      <th>late</th>\n",
       "      <td>0.468437</td>\n",
       "      <td>0.727111</td>\n",
       "    </tr>\n",
       "    <tr>\n",
       "      <th>pay</th>\n",
       "      <td>0.466965</td>\n",
       "      <td>0.724827</td>\n",
       "    </tr>\n",
       "    <tr>\n",
       "      <th>hectic</th>\n",
       "      <td>0.466745</td>\n",
       "      <td>0.724485</td>\n",
       "    </tr>\n",
       "    <tr>\n",
       "      <th>hanging</th>\n",
       "      <td>0.466470</td>\n",
       "      <td>0.724058</td>\n",
       "    </tr>\n",
       "    <tr>\n",
       "      <th>offer</th>\n",
       "      <td>0.462017</td>\n",
       "      <td>0.717147</td>\n",
       "    </tr>\n",
       "    <tr>\n",
       "      <th>quite</th>\n",
       "      <td>0.455184</td>\n",
       "      <td>0.706540</td>\n",
       "    </tr>\n",
       "    <tr>\n",
       "      <th>country</th>\n",
       "      <td>0.450691</td>\n",
       "      <td>0.699567</td>\n",
       "    </tr>\n",
       "    <tr>\n",
       "      <th>sick</th>\n",
       "      <td>0.434389</td>\n",
       "      <td>0.674262</td>\n",
       "    </tr>\n",
       "    <tr>\n",
       "      <th>manager</th>\n",
       "      <td>0.429404</td>\n",
       "      <td>0.666524</td>\n",
       "    </tr>\n",
       "    <tr>\n",
       "      <th>leaving</th>\n",
       "      <td>0.429319</td>\n",
       "      <td>0.666393</td>\n",
       "    </tr>\n",
       "    <tr>\n",
       "      <th>saying</th>\n",
       "      <td>0.427896</td>\n",
       "      <td>0.664184</td>\n",
       "    </tr>\n",
       "    <tr>\n",
       "      <th>stuck</th>\n",
       "      <td>0.427046</td>\n",
       "      <td>0.662865</td>\n",
       "    </tr>\n",
       "    <tr>\n",
       "      <th>knew</th>\n",
       "      <td>0.424188</td>\n",
       "      <td>0.658428</td>\n",
       "    </tr>\n",
       "    <tr>\n",
       "      <th>energy</th>\n",
       "      <td>0.419563</td>\n",
       "      <td>0.651249</td>\n",
       "    </tr>\n",
       "    <tr>\n",
       "      <th>hospital</th>\n",
       "      <td>0.414168</td>\n",
       "      <td>0.642875</td>\n",
       "    </tr>\n",
       "  </tbody>\n",
       "</table>\n",
       "<p>725 rows × 2 columns</p>\n",
       "</div>"
      ],
      "text/plain": [
       "                 probability  adjusted\n",
       "today good          0.866112  1.344386\n",
       "best friend         0.847515  1.315519\n",
       "love                0.843063  1.308609\n",
       "catch               0.842336  1.307481\n",
       "got lot             0.841567  1.306287\n",
       "came home           0.836715  1.298757\n",
       "relax               0.828557  1.286093\n",
       "workout             0.827060  1.283770\n",
       "main                0.819930  1.272702\n",
       "amazing             0.817724  1.269278\n",
       "good day            0.812381  1.260985\n",
       "came                0.811219  1.259180\n",
       "day went            0.809712  1.256841\n",
       "thank               0.809233  1.256098\n",
       "great day           0.805197  1.249833\n",
       "haven seen          0.801608  1.244262\n",
       "today proud         0.801342  1.243850\n",
       "movies              0.799834  1.241510\n",
       "small               0.799655  1.241231\n",
       "mother day          0.798829  1.239949\n",
       "dear god            0.798152  1.238897\n",
       "seen                0.795950  1.235481\n",
       "current problem     0.795225  1.234355\n",
       "till                0.787493  1.222352\n",
       "watch               0.786016  1.220060\n",
       "god                 0.785534  1.219313\n",
       "thinking            0.785329  1.218995\n",
       "pretty good         0.784967  1.218433\n",
       "felt good           0.784902  1.218331\n",
       "mother              0.784396  1.217547\n",
       "...                      ...       ...\n",
       "coworker            0.486836  0.755670\n",
       "exhausted           0.486691  0.755447\n",
       "clean               0.484851  0.752590\n",
       "feel bad            0.484056  0.751356\n",
       "rough               0.481361  0.747173\n",
       "today wasn          0.479180  0.743787\n",
       "use                 0.477133  0.740610\n",
       "rude                0.476747  0.740011\n",
       "realized            0.475176  0.737571\n",
       "didn know           0.474166  0.736004\n",
       "professor           0.473323  0.734696\n",
       "mean                0.473052  0.734275\n",
       "physically          0.470153  0.729775\n",
       "keeping             0.470139  0.729753\n",
       "body                0.468880  0.727800\n",
       "late                0.468437  0.727111\n",
       "pay                 0.466965  0.724827\n",
       "hectic              0.466745  0.724485\n",
       "hanging             0.466470  0.724058\n",
       "offer               0.462017  0.717147\n",
       "quite               0.455184  0.706540\n",
       "country             0.450691  0.699567\n",
       "sick                0.434389  0.674262\n",
       "manager             0.429404  0.666524\n",
       "leaving             0.429319  0.666393\n",
       "saying              0.427896  0.664184\n",
       "stuck               0.427046  0.662865\n",
       "knew                0.424188  0.658428\n",
       "energy              0.419563  0.651249\n",
       "hospital            0.414168  0.642875\n",
       "\n",
       "[725 rows x 2 columns]"
      ]
     },
     "execution_count": 39,
     "metadata": {},
     "output_type": "execute_result"
    }
   ],
   "source": [
    "top_words(col='journal', y='mood_good',\n",
    "          sort=True, df=data, min_df=.01, max_df=0.6, ngram=2)"
   ]
  },
  {
   "cell_type": "markdown",
   "metadata": {
    "collapsed": true,
    "deletable": true,
    "editable": true
   },
   "source": [
    "# Predictors of a good day\n",
    "\n",
    "- Being home\n",
    "- Relaxing\n",
    "- Best friends\n",
    "- Mom / Mother's Day\n",
    "\n",
    "# Predictors of a bad day\n",
    "\n",
    "- Hospitals\n",
    "- Feeling tired\n",
    "- Managers\n",
    "- Being sick\n",
    "- Being too busy\n",
    "- Professors\n",
    "- Coworkers\n",
    "- Rude people"
   ]
  },
  {
   "cell_type": "markdown",
   "metadata": {},
   "source": [
    "# Just for fun: Analyzing vocabulary and personality\n",
    "\n",
    "I can combine this with a personality test I administered and do lots of fun things. For now, let's just look at what predicts having a large vocabulary."
   ]
  },
  {
   "cell_type": "code",
   "execution_count": 89,
   "metadata": {
    "collapsed": false
   },
   "outputs": [],
   "source": [
    "entries_all = []\n",
    "threshold = 8\n",
    "\n",
    "for person in list(data.groupby('g_number').count().index):\n",
    "    entries = data[data['g_number'] == person].head(threshold)\n",
    "    if len(entries) < threshold:\n",
    "        name = entries['name'].iloc[0].split(', ')\n",
    "        name = \" \".join([name[1]] + [name[0]])\n",
    "#         print(name, 'does not have enough entries')    \n",
    "    else:   \n",
    "        entries_list = [entries['name'].iloc[0]]\n",
    "        for j in range(1, len(entries)):\n",
    "            entries_list.append(entries.iloc[j]['journal'])\n",
    "        if len(entries) == threshold:\n",
    "            entries_all.append(entries_list)"
   ]
  },
  {
   "cell_type": "code",
   "execution_count": 90,
   "metadata": {
    "collapsed": false
   },
   "outputs": [],
   "source": [
    "vocab_all = {}\n",
    "\n",
    "for person in entries_all:\n",
    "    word_count = 0\n",
    "    vocab = set()\n",
    "    for entry in person[1:]:\n",
    "        word_count += len(entry.split())\n",
    "        for word in entry.split():\n",
    "            vocab.add(word.lower())\n",
    "    vocab_all[person[0]] = len(vocab)/word_count # Unique word %\n",
    "    \n",
    "data['vocabulary'] = data['name'].map(vocab_all)"
   ]
  },
  {
   "cell_type": "code",
   "execution_count": 91,
   "metadata": {
    "collapsed": true
   },
   "outputs": [],
   "source": [
    "personality = pd.read_csv('personality.csv')\n",
    "\n",
    "personality['name'] = personality['Last Name, First Name']\n",
    "del personality['Last Name, First Name']"
   ]
  },
  {
   "cell_type": "code",
   "execution_count": 92,
   "metadata": {
    "collapsed": true
   },
   "outputs": [],
   "source": [
    "personality['name'] = personality['name'].str.lower()\\\n",
    ".str.replace(' ', '').str.replace(',', ', ').str.title()\n",
    "\n",
    "try:\n",
    "    del personality['Timestamp']\n",
    "except:\n",
    "    pass\n",
    "    \n",
    "data = pd.merge(data, personality, on='name', how='left')"
   ]
  },
  {
   "cell_type": "code",
   "execution_count": 93,
   "metadata": {
    "collapsed": false
   },
   "outputs": [
    {
     "data": {
      "text/plain": [
       "(804, 40)"
      ]
     },
     "execution_count": 93,
     "metadata": {},
     "output_type": "execute_result"
    }
   ],
   "source": [
    "data = data.drop_duplicates(subset='journal')\n",
    "data.shape"
   ]
  },
  {
   "cell_type": "code",
   "execution_count": 94,
   "metadata": {
    "collapsed": true
   },
   "outputs": [],
   "source": [
    "vocab_df = pd.DataFrame([vocab_all]).T.sort_values(0,ascending=False)\n",
    "vocab_df = vocab_df.reset_index()\n",
    "vocab_df.columns = ['name', 'vocabulary']\n",
    "\n",
    "vocab_df = vocab_df.merge(personality, how='left', on='name')"
   ]
  },
  {
   "cell_type": "code",
   "execution_count": 95,
   "metadata": {
    "collapsed": false
   },
   "outputs": [
    {
     "data": {
      "text/plain": [
       "<matplotlib.axes._subplots.AxesSubplot at 0x1c26cb7a4a8>"
      ]
     },
     "execution_count": 95,
     "metadata": {},
     "output_type": "execute_result"
    },
    {
     "data": {
      "image/png": "[encoded data removed]",
      "text/plain": [
       "<matplotlib.figure.Figure at 0x1c26b96f748>"
      ]
     },
     "metadata": {},
     "output_type": "display_data"
    }
   ],
   "source": [
    "vocab_df.select_dtypes(include=[np.number]).corrwith(vocab_df['vocabulary'])\\\n",
    ".sort_values(ascending=False)[1:].plot.bar(figsize=(10,4), color='blue')"
   ]
  },
  {
   "cell_type": "markdown",
   "metadata": {},
   "source": [
    "Not at all what I expected, but this is an imperfect way of measuring vocabulary. When I have a bit more time, I'll limit it to the first few hundred words so we're always comparing apples to apples. As people write more, they'll inevitably start repeating themselves.\n",
    "\n",
    "For now though, people who are conscientious (organized, responsible, and detail-oriented) score the highest on vocabulary measures. People who keep to themselves and generally don't like other people "
   ]
  }
 ],
 "metadata": {
  "anaconda-cloud": {},
  "kernelspec": {
   "display_name": "Python 3",
   "language": "python",
   "name": "python3"
  },
  "language_info": {
   "codemirror_mode": {
    "name": "ipython",
    "version": 3
   },
   "file_extension": ".py",
   "mimetype": "text/x-python",
   "name": "python",
   "nbconvert_exporter": "python",
   "pygments_lexer": "ipython3",
   "version": "3.6.0"
  }
 },
 "nbformat": 4,
 "nbformat_minor": 2
}
